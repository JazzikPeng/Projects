{
 "cells": [
  {
   "cell_type": "code",
   "execution_count": 1,
   "metadata": {},
   "outputs": [
    {
     "data": {
      "image/png": "[encoded data removed]",
      "text/plain": [
       "<matplotlib.figure.Figure at 0x1181ae160>"
      ]
     },
     "metadata": {},
     "output_type": "display_data"
    }
   ],
   "source": [
    "import pickle as pkl\n",
    "import pandas\n",
    "import numpy as np\n",
    "from scipy import random\n",
    "from sklearn.cluster import KMeans\n",
    "from sklearn.datasets import make_spd_matrix\n",
    "from scipy.special import gammaln, psi\n",
    "import matplotlib.pyplot as plt\n",
    "import numpy as np\n",
    "from mpl_toolkits.mplot3d import Axes3D\n",
    "import matplotlib.cm as cm\n",
    "import matplotlib.pyplot as plt\n",
    "import numpy as np\n",
    "from matplotlib.patches import Ellipse\n",
    "from numpy.linalg import det, inv, eigh\n",
    "from viz import *\n",
    "\n",
    "#r_prime initialization\n",
    "def r_prime_init(data, N, K, random_state=525):\n",
    "    r_prime = 0.1 / (K - 1) * np.ones((N, K))\n",
    "    model = KMeans(K, random_state = 525).fit(data)\n",
    "    label = model.predict(data)\n",
    "    for i, j in enumerate(label):\n",
    "        r_prime[i, j] = 0.9\n",
    "    return r_prime\n",
    "\n",
    "#r_prime update\n",
    "def exp_softmax(x):\n",
    "    exp_x = np.exp(x-np.max(x))\n",
    "    total = np.sum(exp_x)\n",
    "    return (exp_x+ np.finfo(np.float32).eps)/(total+ np.finfo(np.float32).eps)\n",
    "def update_r_prime(alpha_prime, w_inv_prime, N, K):\n",
    "    update = np.zeros((N,K))\n",
    "    alpha = np.sum(alpha_prime)\n",
    "    for n in range(N):\n",
    "        for k in range(K):\n",
    "            update[n,k] = psi(alpha_prime[k] + np.finfo(np.float32).eps) - psi(alpha)\n",
    "            update[n,k] += D*np.log(2)/2\n",
    "            update[n,k] -= np.log(det(w_inv_prime[k]))/2\n",
    "            update[n,k] += np.sum([psi((nu_prime[k] / 2) + ((1 - i) / 2)) for i in range(D)])/2\n",
    "            update[n,k] -= D/beta_prime[k]/2 + nu_prime[k]*np.dot(np.dot(data[n,:]-m_prime[k],inv(w_inv_prime[k])),(data[n,:]-m_prime[k]).reshape(1,-1).T)/2\n",
    "        update[n,:] = exp_softmax(update[n,:])\n",
    "    return update\n",
    "\n",
    "#read in dataset\n",
    "data = pandas.read_csv('oldfaithful.csv')\n",
    "#D for dimension, N for data size\n",
    "N, D = data.shape\n",
    "data = np.array(data)\n",
    "#number of cluster\n",
    "K = 6\n",
    "\n",
    "#priors for pi\n",
    "np.random.seed(525)\n",
    "alpha_0 = np.array([float(1)]*K)   #concentration para for \\pi\n",
    "#prior for cov matrix(wishart distribution)\n",
    "nu_0 = np.array([float(D)])        #prior degree of freedom\n",
    "w_0_inv = inv(make_spd_matrix(D))         #prior scale matrix\n",
    "#prior for mu(normal distribution)\n",
    "m_0 = np.array(([float(0)] * D))     #mean for mu, dimension D\n",
    "beta_0 = np.array([0.9])           #adjustment for variance for cov matrix, dimension 1\n",
    "\n",
    "#variational parameter\n",
    "#assignment parameter\n",
    "r_prime = r_prime_init(data, N, K)\n",
    "alpha_prime = np.zeros(shape=K)\n",
    "#parameter for mu and cov matrix\n",
    "nu_prime = np.zeros(shape=K)\n",
    "w_inv_prime = np.zeros(shape=(K, D, D))\n",
    "beta_prime = np.zeros(shape=K)\n",
    "m_prime = lambda_m = np.zeros(shape=(K, D))\n",
    "\n",
    "plt.ion()\n",
    "plt.style.use('seaborn-darkgrid')\n",
    "fig = plt.figure(figsize=(10, 10))\n",
    "ax_spatial = fig.add_subplot(1, 1, 1)\n",
    "circs = []\n",
    "sctZ = None"
   ]
  },
  {
   "cell_type": "code",
   "execution_count": 2,
   "metadata": {},
   "outputs": [],
   "source": [
    "import pandas as pd\n",
    "tt = pd.read_csv(\"./oldfaithful.csv\")\n",
    "xn = []\n",
    "for i in range(data.shape[0]):\n",
    "    xn.append(list(tt.iloc[i]))\n",
    "xn = np.array(xn)"
   ]
  },
  {
   "cell_type": "code",
   "execution_count": 16,
   "metadata": {},
   "outputs": [],
   "source": [
    "Nk = np.sum(r_prime,axis = 0)\n",
    "alpha_prime = alpha_0 + Nk\n",
    "beta_prime = beta_0 + Nk\n",
    "nu_prime = nu_0 + Nk\n",
    "#calculate xk\n",
    "xk = np.zeros((K,D))\n",
    "for k in range(K):\n",
    "    for j in range(D):\n",
    "        d = np.array(data[:,j].flatten())\n",
    "        xk[k][j] = d.dot(r_prime[:,k])/Nk[k]\n",
    "#update m prime\n",
    "for k in range(K):\n",
    "    m_prime[k,:] = (beta_0*m_0 + Nk[k]*xk[k,:])/beta_prime[k]\n",
    "#update w_inv prime\n",
    "for k in range(K):\n",
    "    Sk = np.zeros((2,2))\n",
    "    para = beta_0*Nk[k]/(beta_0+Nk[k])\n",
    "    for n in range(N):\n",
    "        Sk += r_prime[n,k]*(data[n,:]-xk[k,:]).reshape(1,-1).T*(data[n,:]-xk[k,:]).reshape(1,-1)/Nk[k]\n",
    "    w_inv_prime[k] =  w_0_inv + Nk[k]*Sk + para*(xk[k,:]-m_0).reshape(1,-1).T*(xk[k,:]-m_0).reshape(1,-1)\n",
    "r_prime = update_r_prime(alpha_prime, w_inv_prime, N, K)"
   ]
  },
  {
   "cell_type": "code",
   "execution_count": 17,
   "metadata": {},
   "outputs": [
    {
     "data": {
      "image/png": "[encoded data removed]",
      "text/plain": [
       "<matplotlib.figure.Figure at 0x1a29dec780>"
      ]
     },
     "metadata": {},
     "output_type": "display_data"
    }
   ],
   "source": [
    "lambda_w = w_inv_prime\n",
    "lambda_nu = nu_prime\n",
    "lambda_m = m_prime\n",
    "n_iters = 0\n",
    "covs = [lambda_w[k, :, :] / (lambda_nu[k] - D - 1)\n",
    "                            for k in range(K)]\n",
    "\n",
    "ax_spatial, circs, sctZ = plot_iteration(ax_spatial, circs,\n",
    "                                         sctZ, lambda_m,\n",
    "                                         covs, xn,\n",
    "                                         n_iters, K)"
   ]
  },
  {
   "cell_type": "code",
   "execution_count": 8,
   "metadata": {},
   "outputs": [],
   "source": [
    "Nk = np.sum(r_prime,axis = 0)\n",
    "alpha_prime = alpha_0 + Nk\n",
    "beta_prime = beta_0 + Nk\n",
    "nu_prime = nu_0 + Nk\n",
    "#calculate xk\n",
    "xk = np.zeros((K,D))\n",
    "for k in range(K):\n",
    "    for j in range(D):\n",
    "        d = np.array(data[:,j].flatten())\n",
    "        xk[k][j] = d.dot(r_prime[:,k])/Nk[k]\n",
    "#update m prime\n",
    "for k in range(K):\n",
    "    m_prime[k,:] = (beta_0*m_0 + Nk[k]*xk[k,:])/beta_prime[k]\n",
    "#update w_inv prime\n",
    "for k in range(K):\n",
    "    Sk = np.zeros((2,2))\n",
    "    para = beta_0*Nk[k]/(beta_0+Nk[k])\n",
    "    for n in range(N):\n",
    "        Sk += r_prime[n,k]*(data[n,:]-xk[k,:]).reshape(1,-1).T*(data[n,:]-xk[k,:]).reshape(1,-1)/Nk[k]\n",
    "    w_inv_prime[k] =  w_0_inv + Nk[k]*Sk + para*(xk[k,:]-m_0).reshape(1,-1).T*(xk[k,:]-m_0).reshape(1,-1)\n",
    "r_prime = update_r_prime(alpha_prime, w_inv_prime, N, K)"
   ]
  },
  {
   "cell_type": "code",
   "execution_count": 9,
   "metadata": {},
   "outputs": [],
   "source": [
    "lambda_w = w_inv_prime\n",
    "lambda_nu = nu_prime\n",
    "lambda_m = m_prime\n",
    "n_iters = 1\n",
    "covs = [lambda_w[k, :, :] / (lambda_nu[k] - D - 1)\n",
    "                            for k in range(K)]"
   ]
  },
  {
   "cell_type": "code",
   "execution_count": 20,
   "metadata": {},
   "outputs": [
    {
     "data": {
      "text/plain": [
       "<matplotlib.figure.Figure at 0x1a29eb6a20>"
      ]
     },
     "metadata": {},
     "output_type": "display_data"
    }
   ],
   "source": [
    "circs = []\n",
    "cov = covs\n",
    "for k in range(K):\n",
    "    if type(cov) is list:\n",
    "        circ = create_cov_ellipse(cov[k], lambda_m[k, :],\n",
    "                                  color='r', alpha=0.3)\n",
    "    else:\n",
    "        circ = create_cov_ellipse(cov, lambda_m[k, :],\n",
    "                                  color='r', alpha=0.3)\n",
    "    circs.append(circ)\n",
    "    ax_spatial.add_artist(circ)\n",
    "sctZ.set_offsets(lambda_m)\n",
    "plt.draw()\n",
    "plt.pause(0.001)"
   ]
  },
  {
   "cell_type": "code",
   "execution_count": null,
   "metadata": {},
   "outputs": [],
   "source": []
  }
 ],
 "metadata": {
  "kernelspec": {
   "display_name": "Python 3",
   "language": "python",
   "name": "python3"
  },
  "language_info": {
   "codemirror_mode": {
    "name": "ipython",
    "version": 3
   },
   "file_extension": ".py",
   "mimetype": "text/x-python",
   "name": "python",
   "nbconvert_exporter": "python",
   "pygments_lexer": "ipython3",
   "version": "3.6.3"
  }
 },
 "nbformat": 4,
 "nbformat_minor": 2
}
