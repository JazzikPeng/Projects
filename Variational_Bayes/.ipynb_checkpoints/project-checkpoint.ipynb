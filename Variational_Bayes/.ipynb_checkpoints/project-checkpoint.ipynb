{
 "cells": [
  {
   "cell_type": "code",
   "execution_count": 1,
   "metadata": {},
   "outputs": [],
   "source": [
    "import pickle as pkl\n",
    "import pandas\n",
    "import numpy as np\n",
    "from scipy import random\n",
    "from sklearn.cluster import KMeans\n",
    "from sklearn.datasets import make_spd_matrix\n",
    "from scipy.special import gammaln, psi\n",
    "import matplotlib.pyplot as plt\n",
    "from mpl_toolkits.mplot3d import Axes3D\n",
    "import matplotlib.cm as cm\n",
    "import matplotlib.pyplot as plt\n",
    "from matplotlib.patches import Ellipse\n",
    "from numpy.linalg import det, inv, eigh\n",
    "from scipy.special import gammaln, psi\n",
    "from numpy import matmul, log, pi, trace"
   ]
  },
  {
   "cell_type": "code",
   "execution_count": 2,
   "metadata": {},
   "outputs": [],
   "source": [
    "def r_prime_init(data, N, K, random_state=525):\n",
    "    r_prime = 0.1 / (K - 1) * np.ones((N, K))\n",
    "    model = KMeans(K, random_state = 525).fit(data)\n",
    "    label = model.predict(data)\n",
    "    for i, j in enumerate(label):\n",
    "        r_prime[i, j] = 0.9\n",
    "    return r_prime"
   ]
  },
  {
   "cell_type": "code",
   "execution_count": 3,
   "metadata": {},
   "outputs": [],
   "source": [
    "def exp_softmax(x):\n",
    "    exp_x = np.exp(x-np.max(x))\n",
    "    total = np.sum(exp_x)\n",
    "    return (exp_x+ np.finfo(np.float32).eps)/(total+ np.finfo(np.float32).eps)\n",
    "def update_r_prime(alpha_prime, w_inv_prime, N, K):\n",
    "    update = np.zeros((N,K))\n",
    "    alpha = np.sum(alpha_prime)\n",
    "    for n in range(N):\n",
    "        for k in range(K):\n",
    "            update[n,k] = psi(alpha_prime[k] + np.finfo(np.float32).eps) - psi(alpha)\n",
    "            update[n,k] += D*np.log(2)/2\n",
    "            update[n,k] -= np.log(det(w_inv_prime[k]))/2\n",
    "            update[n,k] += np.sum([psi((nu_prime[k] / 2) + ((1 - i) / 2)) for i in range(D)])/2\n",
    "            update[n,k] -= D/beta_prime[k]/2 + nu_prime[k]*np.dot(np.dot(data[n,:]-m_prime[k],inv(w_inv_prime[k])),(data[n,:]-m_prime[k]).reshape(1,-1).T)/2\n",
    "        update[n,:] = exp_softmax(update[n,:])\n",
    "    return update"
   ]
  },
  {
   "cell_type": "code",
   "execution_count": 4,
   "metadata": {},
   "outputs": [],
   "source": [
    "def ln_B(W, nu):\n",
    "    output = -nu*log(det(W))/2 - nu*D*log(2)/2 - D*(D-1)*log(pi)/4\n",
    "    output -=sum(gammaln(np.array([nu/2 + (1-i)/2 for i in range(D)])))\n",
    "    return output"
   ]
  },
  {
   "cell_type": "code",
   "execution_count": 5,
   "metadata": {},
   "outputs": [],
   "source": [
    "#read in dataset\n",
    "data = pandas.read_csv('oldfaithful.csv')\n",
    "#D for dimension, N for data size\n",
    "N, D = data.shape"
   ]
  },
  {
   "cell_type": "code",
   "execution_count": 6,
   "metadata": {},
   "outputs": [],
   "source": [
    "data = np.array(data)"
   ]
  },
  {
   "cell_type": "code",
   "execution_count": 7,
   "metadata": {},
   "outputs": [],
   "source": [
    "#number of cluster\n",
    "K = 6"
   ]
  },
  {
   "cell_type": "code",
   "execution_count": 8,
   "metadata": {},
   "outputs": [],
   "source": [
    "#priors for pi\n",
    "np.random.seed(525)\n",
    "alpha_0 = np.array([float(1)]*K)   #concentration para for \\pi\n",
    "#prior for cov matrix(wishart distribution)\n",
    "nu_0 = np.array([float(D)])        #prior degree of freedom\n",
    "w_0_inv = inv(make_spd_matrix(D))         #prior scale matrix\n",
    "#prior for mu(normal distribution)\n",
    "m_0 = np.array(([float(0)] * D))     #mean for mu, dimension D\n",
    "beta_0 = np.array([0.9])           #adjustment for variance for cov matrix, dimension 1"
   ]
  },
  {
   "cell_type": "code",
   "execution_count": 11,
   "metadata": {},
   "outputs": [],
   "source": [
    "#variational parameter\n",
    "#assignment parameter\n",
    "r_prime = r_prime_init(data, N, K)\n",
    "#r_prime = np.random.dirichlet(alpha_0, N)\n",
    "alpha_prime = np.zeros(shape=K)\n",
    "#parameter for mu and cov matrix\n",
    "nu_prime = np.zeros(shape=K)\n",
    "w_inv_prime = np.zeros(shape=(K, D, D))\n",
    "beta_prime = np.zeros(shape=K)\n",
    "m_prime = lambda_m = np.zeros(shape=(K, D))"
   ]
  },
  {
   "cell_type": "code",
   "execution_count": 10,
   "metadata": {},
   "outputs": [
    {
     "data": {
      "text/plain": [
       "(272, 6)"
      ]
     },
     "execution_count": 10,
     "metadata": {},
     "output_type": "execute_result"
    }
   ],
   "source": [
    "r_prime.shape"
   ]
  },
  {
   "cell_type": "code",
   "execution_count": 15,
   "metadata": {},
   "outputs": [
    {
     "name": "stdout",
     "output_type": "stream",
     "text": [
      "0\n",
      "1\n",
      "2\n",
      "3\n",
      "4\n",
      "5\n",
      "6\n",
      "7\n",
      "8\n",
      "9\n",
      "10\n",
      "11\n",
      "12\n",
      "13\n",
      "14\n",
      "15\n",
      "16\n",
      "17\n",
      "18\n",
      "19\n"
     ]
    }
   ],
   "source": [
    "for step in range(20):\n",
    "    Nk = np.sum(r_prime,axis = 0)\n",
    "    alpha_prime = alpha_0 + Nk\n",
    "    beta_prime = beta_0 + Nk\n",
    "    nu_prime = nu_0 + Nk\n",
    "    #calculate xk\n",
    "    xk = np.zeros((K,D))\n",
    "    for k in range(K):\n",
    "        for j in range(D):\n",
    "            d = np.array(data[:,j].flatten())\n",
    "            xk[k][j] = d.dot(r_prime[:,k])/Nk[k]\n",
    "    #update m prime\n",
    "    for k in range(K):\n",
    "        m_prime[k,:] = (beta_0*m_0 + Nk[k]*xk[k,:])/beta_prime[k]\n",
    "    #update w_inv prime\n",
    "    for k in range(K):\n",
    "        Sk = np.zeros((2,2))\n",
    "        para = beta_0*Nk[k]/(beta_0+Nk[k])\n",
    "        for n in range(N):\n",
    "            Sk += r_prime[n,k]*(data[n,:]-xk[k,:]).reshape(1,-1).T*(data[n,:]-xk[k,:]).reshape(1,-1)/Nk[k]\n",
    "        w_inv_prime[k] =  w_0_inv + Nk[k]*Sk + para*(xk[k,:]-m_0).reshape(1,-1).T*(xk[k,:]-m_0).reshape(1,-1)\n",
    "    r_prime = update_r_prime(alpha_prime, w_inv_prime, N, K)\n",
    "    print( + step)\n",
    "    #elbo\n",
    "    ln_C_alpha = gammaln(np.sum(alpha_prime))-np.sum(gammaln(alpha_prime))\n",
    "    ln_pi = psi(alpha_prime + np.finfo(np.float32).eps) - psi(np.sum(alpha_prime)) \n",
    "    part6 = np.dot(alpha_prime - 1, ln_pi) + ln_C_alpha\n",
    "    ln_C_alpha0 = gammaln(np.sum(alpha_0))-np.sum(gammaln(alpha_0))\n",
    "    part3 = np.dot(alpha_0 - 1, ln_pi) + (alpha_0[0]-1)*np.sum(ln_pi)\n",
    "    part2 = np.sum(np.dot(r_prime,ln_pi))\n",
    "    part5 = np.sum(np.array([np.dot(r_prime[k],np.log(r_prime[k])) for k in range(N)]))\n",
    "    ln_Lambda_tilda = np.array([np.sum([psi((nu_prime[k] / 2) + ((1 - i) / 2)) for i in range(D)])/2 for k in range(K)])\n",
    "    ln_Lambda_tilda += D*log(2)\n",
    "    for k in range(K):\n",
    "        ln_Lambda_tilda[k] += log(det(inv(w_inv_prime[k])))\n",
    "    part1 = 0\n",
    "    for k in range(K):\n",
    "        temp = ln_Lambda_tilda[k] - D/beta_prime[k]\n",
    "        Sk = np.zeros((2,2))\n",
    "        para = beta_0*Nk[k]/(beta_0+Nk[k])\n",
    "        for n in range(N):\n",
    "            Sk += r_prime[n,k]*(data[n,:]-xk[k,:]).reshape(1,-1).T*(data[n,:]-xk[k,:]).reshape(1,-1)/Nk[k]\n",
    "        Wk = inv(w_inv_prime[k])\n",
    "        temp -= nu_prime[k]*np.trace(matmul(Sk,Wk))\n",
    "        temp -= nu_prime[k]*np.dot((xk[0] - m_prime[0]).dot(Wk),(xk[0] - m_prime[0]).T)\n",
    "        temp -= D*log(2*pi)\n",
    "        part1 += temp*Nk[k]/2\n",
    "    part4 = 0\n",
    "    for k in range(K):\n",
    "        Wk = inv(w_inv_prime[k])\n",
    "        temp = D*log(beta_0/2*pi) + (nu_0 - D)*ln_Lambda_tilda[k] - D*beta_0/beta_prime[k]\n",
    "        temp -= beta_0*nu_prime[k]*np.dot((m_prime[k]-m_0).dot(Wk),(m_prime[k]-m_0).T)\n",
    "        temp -= nu_prime[k]*trace(matmul(w_0_inv,Wk))\n",
    "        temp = temp/2\n",
    "        part4 += temp\n",
    "    part4 += K*ln_B(w_0_inv, nu_0)\n",
    "    part7 = sum(ln_Lambda_tilda)/2 + D*sum(log(beta_prime/(2*pi)))/2 - D*K/2\n",
    "    for k in range(K):\n",
    "        part7 -= nu_prime[k]*D/2 - (nu_prime[k] - D - 1)*ln_Lambda_tilda[k]/2\n",
    "        part7 -= ln_B(w_inv_prime[k], nu_prime[k])\n",
    "    elbo = part1 + part2 + part4 - part5 - part6 - part7\n",
    "    #print(elbo)\n",
    "    "
   ]
  },
  {
   "cell_type": "code",
   "execution_count": 13,
   "metadata": {},
   "outputs": [
    {
     "data": {
      "text/plain": [
       "array([178.25407239,  95.73932262,   1.00666955,   1.00003228,\n",
       "         1.00003228,   1.00003228])"
      ]
     },
     "execution_count": 13,
     "metadata": {},
     "output_type": "execute_result"
    }
   ],
   "source": [
    "alpha_prime"
   ]
  },
  {
   "cell_type": "code",
   "execution_count": 16,
   "metadata": {},
   "outputs": [
    {
     "data": {
      "text/plain": [
       "array([[4.25148354e+00, 7.93127653e+01],\n",
       "       [2.00066238e+00, 5.38988622e+01],\n",
       "       [1.25201057e-04, 2.54477570e-03],\n",
       "       [1.25201057e-04, 2.54477570e-03],\n",
       "       [1.25201057e-04, 2.54477570e-03],\n",
       "       [1.25201057e-04, 2.54477570e-03]])"
      ]
     },
     "execution_count": 16,
     "metadata": {},
     "output_type": "execute_result"
    }
   ],
   "source": [
    "m_prime"
   ]
  },
  {
   "cell_type": "code",
   "execution_count": 21,
   "metadata": {},
   "outputs": [
    {
     "data": {
      "text/plain": [
       "array([[ 0.10061618,  1.44040057],\n",
       "       [ 1.44040057, 62.41255996]])"
      ]
     },
     "execution_count": 21,
     "metadata": {},
     "output_type": "execute_result"
    }
   ],
   "source": [
    "w_inv_prime[1]/(nu_prime[1] - D - 1)"
   ]
  },
  {
   "cell_type": "code",
   "execution_count": null,
   "metadata": {},
   "outputs": [],
   "source": [
    "ln_C_alpha = gammaln(np.sum(alpha_prime))-np.sum(gammaln(alpha_prime))\n",
    "    ln_pi = psi(alpha_prime + np.finfo(np.float32).eps) - psi(np.sum(alpha_prime)) \n",
    "    part6 = np.dot(alpha_prime - 1, ln_pi) + ln_C_alpha\n",
    "    ln_C_alpha0 = gammaln(np.sum(alpha_0))-np.sum(gammaln(alpha_0))\n",
    "    part3 = np.dot(alpha_0 - 1, ln_pi) + (alpha_0[0]-1)*np.sum(ln_pi)\n",
    "    part2 = np.sum(np.dot(r_prime,ln_pi))\n",
    "    part5 = np.sum(np.array([np.dot(r_prime[k],np.log(r_prime[k])) for k in range(N)]))\n",
    "    ln_Lambda_tilda = np.array([np.sum([psi((nu_prime[k] / 2) + ((1 - i) / 2)) for i in range(D)])/2 for k in range(K)])\n",
    "    ln_Lambda_tilda += D*log(2)\n",
    "    for k in range(K):\n",
    "        ln_Lambda_tilda[k] += log(det(inv(w_inv_prime[k])))\n",
    "    part1 = 0\n",
    "    for k in range(K):\n",
    "        temp = ln_Lambda_tilda[k] - D/beta_prime[k]\n",
    "        Sk = np.zeros((2,2))\n",
    "        para = beta_0*Nk[k]/(beta_0+Nk[k])\n",
    "        for n in range(N):\n",
    "            Sk += r_prime[n,k]*(data[n,:]-xk[k,:]).reshape(1,-1).T*(data[n,:]-xk[k,:]).reshape(1,-1)/Nk[k]\n",
    "        Wk = inv(w_inv_prime[k])\n",
    "        temp -= nu_prime[k]*np.trace(matmul(Sk,Wk))\n",
    "        temp -= nu_prime[k]*np.dot((xk[0] - m_prime[0]).dot(Wk),(xk[0] - m_prime[0]).T)\n",
    "        temp -= D*log(2*pi)\n",
    "        part1 += temp*Nk[k]/2\n",
    "    part4 = 0\n",
    "    for k in range(K):\n",
    "        Wk = inv(w_inv_prime[k])\n",
    "        temp = D*log(beta_0/2*pi) + (nu_0 - D)*ln_Lambda_tilda[k] - D*beta_0/beta_prime[k]\n",
    "        temp -= beta_0*nu_prime[k]*np.dot((m_prime[k]-m_0).dot(Wk),(m_prime[k]-m_0).T)\n",
    "        temp -= nu_prime[k]*trace(matmul(w_0_inv,Wk))\n",
    "        temp = temp/2\n",
    "        part4 += temp\n",
    "    part4 += K*ln_B(w_0_inv, nu_0)\n",
    "    part7 = sum(ln_Lambda_tilda)/2 + D*sum(log(beta_prime/(2*pi)))/2 - D*K/2\n",
    "    for k in range(K):\n",
    "        part7 -= nu_prime[k]*D/2 - (nu_prime[k] - D - 1)*ln_Lambda_tilda[k]/2\n",
    "        part7 -= ln_B(w_inv_prime[k], nu_prime[k])\n",
    "    elbo = part1 + part2 + part4 - part5 - part6 - part7"
   ]
  },
  {
   "cell_type": "code",
   "execution_count": 155,
   "metadata": {},
   "outputs": [
    {
     "name": "stdout",
     "output_type": "stream",
     "text": [
      "[[1.14663905e-04 2.29568908e-03]\n",
      " [4.30570205e+00 7.94358823e+01]\n",
      " [2.75470159e+00 6.31311288e+01]\n",
      " [1.96232125e+00 5.38195505e+01]\n",
      " [1.14663905e-04 2.29568908e-03]\n",
      " [1.76320688e+00 4.68659881e+01]]\n"
     ]
    }
   ],
   "source": []
  },
  {
   "cell_type": "code",
   "execution_count": 44,
   "metadata": {},
   "outputs": [],
   "source": [
    "#lnC(\\alpha)\n",
    "ln_C_alpha = gammaln(sum(alpha_prime))-sum(gammaln(alpha_prime))\n",
    "#ln pi_k^tilda\n",
    "ln_pi = psi(alpha_prime) - psi(np.sum(alpha_prime)) \n",
    "part6 = np.dot(alpha_prime - 1, ln_pi) + ln_C_alpha\n",
    "#Part3 zero\n",
    "part2 = np.sum(np.dot(r_prime,ln_pi))"
   ]
  },
  {
   "cell_type": "code",
   "execution_count": 50,
   "metadata": {},
   "outputs": [],
   "source": [
    "part5 = np.sum(np.array([np.dot(r_prime[k],np.log(r_prime[k])) for k in range(N)]))"
   ]
  },
  {
   "cell_type": "code",
   "execution_count": 122,
   "metadata": {},
   "outputs": [],
   "source": [
    "ln_Lambda_tilda = np.array([np.sum([psi((nu_prime[k] / 2) + ((1 - i) / 2)) for i in range(D)])/2 for k in range(K)])\n",
    "ln_Lambda_tilda += D*log(2)\n",
    "for k in range(K):\n",
    "    ln_Lambda_tilda[k] += log(det(inv(w_inv_prime[k])))"
   ]
  },
  {
   "cell_type": "code",
   "execution_count": 57,
   "metadata": {},
   "outputs": [],
   "source": [
    "k = 0\n",
    "Sk = np.zeros((2,2))\n",
    "para = beta_0*Nk[k]/(beta_0+Nk[k])\n",
    "for n in range(N):\n",
    "    Sk += r_prime[n,k]*(data[n,:]-xk[k,:]).reshape(1,-1).T*(data[n,:]-xk[k,:]).reshape(1,-1)/Nk[k]"
   ]
  },
  {
   "cell_type": "code",
   "execution_count": 65,
   "metadata": {},
   "outputs": [
    {
     "data": {
      "text/plain": [
       "array([[ 0.00696872, -0.0018318 ],\n",
       "       [-0.0018318 ,  0.00579868]])"
      ]
     },
     "execution_count": 65,
     "metadata": {},
     "output_type": "execute_result"
    }
   ],
   "source": [
    "Sk*inv(w_inv_prime[k])"
   ]
  },
  {
   "cell_type": "code",
   "execution_count": 62,
   "metadata": {},
   "outputs": [
    {
     "data": {
      "text/plain": [
       "array([[ 0.04091308, -0.00167499],\n",
       "       [-0.00167499,  0.00015294]])"
      ]
     },
     "execution_count": 62,
     "metadata": {},
     "output_type": "execute_result"
    }
   ],
   "source": [
    "inv(w_inv_prime[k])"
   ]
  },
  {
   "cell_type": "code",
   "execution_count": 68,
   "metadata": {},
   "outputs": [
    {
     "data": {
      "text/plain": [
       "0.005136915454753227"
      ]
     },
     "execution_count": 68,
     "metadata": {},
     "output_type": "execute_result"
    }
   ],
   "source": [
    "Sk[0,:].dot(inv(w_inv_prime[k])[:,0])"
   ]
  },
  {
   "cell_type": "code",
   "execution_count": 77,
   "metadata": {},
   "outputs": [],
   "source": [
    "part1 = 0\n",
    "for k in range(K):\n",
    "    temp = ln_Lambda_tilda[k] - D/beta_prime[k]\n",
    "    Sk = np.zeros((2,2))\n",
    "    para = beta_0*Nk[k]/(beta_0+Nk[k])\n",
    "    for n in range(N):\n",
    "        Sk += r_prime[n,k]*(data[n,:]-xk[k,:]).reshape(1,-1).T*(data[n,:]-xk[k,:]).reshape(1,-1)/Nk[k]\n",
    "    Wk = inv(w_inv_prime[k])\n",
    "    temp -= nu_prime[k]*np.trace(matmul(Sk,Wk))\n",
    "    temp -= nu_prime[k]*np.dot((xk[0] - m_prime[0]).dot(Wk),(xk[0] - m_prime[0]).T)\n",
    "    temp -= D*log(2*pi)\n",
    "    part1 += temp*Nk[k]/2"
   ]
  },
  {
   "cell_type": "code",
   "execution_count": 90,
   "metadata": {},
   "outputs": [],
   "source": []
  },
  {
   "cell_type": "code",
   "execution_count": 94,
   "metadata": {},
   "outputs": [],
   "source": [
    "part4 = 0\n",
    "for k in range(K):\n",
    "    Wk = inv(w_inv_prime[k])\n",
    "    temp = D*log(beta_0/2*pi) + (nu_0 - D)*ln_Lambda_tilda[k] - D*beta_0/beta_prime[k]\n",
    "    temp -= beta_0*nu_prime[k]*np.dot((m_prime[k]-m_0).dot(Wk),(m_prime[k]-m_0).T)\n",
    "    temp -= nu_prime[k]*trace(matmul(w_0_inv,Wk))\n",
    "    temp = temp/2\n",
    "    part4 += temp\n",
    "part4 += K*ln_B(w_0_inv, nu_0)"
   ]
  },
  {
   "cell_type": "code",
   "execution_count": 96,
   "metadata": {},
   "outputs": [],
   "source": [
    "part7 = sum(ln_Lambda_tilda)/2 + D*sum(log(beta_prime/(2*pi)))/2 - D*K/2\n",
    "for k in range(K):\n",
    "    part7 -= nu_prime[k]*D/2 - (nu_prime[k] - D - 1)*ln_Lambda_tilda[k]/2\n",
    "    part7 -= ln_B(w_inv_prime[k], nu_prime[k])"
   ]
  },
  {
   "cell_type": "code",
   "execution_count": 97,
   "metadata": {},
   "outputs": [],
   "source": [
    "elbo = part1 + part2 + part3 + part4 - part5 - part6 - part7"
   ]
  },
  {
   "cell_type": "code",
   "execution_count": 98,
   "metadata": {},
   "outputs": [
    {
     "data": {
      "text/plain": [
       "array([-3390.41695092])"
      ]
     },
     "execution_count": 98,
     "metadata": {},
     "output_type": "execute_result"
    }
   ],
   "source": [
    "elbo"
   ]
  },
  {
   "cell_type": "code",
   "execution_count": 3,
   "metadata": {},
   "outputs": [
    {
     "data": {
      "text/plain": [
       "(2,)"
      ]
     },
     "execution_count": 3,
     "metadata": {},
     "output_type": "execute_result"
    }
   ],
   "source": [
    "np.array(([float(0)] * 2)).shape"
   ]
  },
  {
   "cell_type": "code",
   "execution_count": 6,
   "metadata": {},
   "outputs": [
    {
     "data": {
      "text/plain": [
       "array([1., 1.])"
      ]
     },
     "execution_count": 6,
     "metadata": {},
     "output_type": "execute_result"
    }
   ],
   "source": [
    "np.array([float(1)]*2) "
   ]
  },
  {
   "cell_type": "code",
   "execution_count": 8,
   "metadata": {},
   "outputs": [
    {
     "data": {
      "text/plain": [
       "array([1., 1.])"
      ]
     },
     "execution_count": 8,
     "metadata": {},
     "output_type": "execute_result"
    }
   ],
   "source": [
    "np.ones((2,))"
   ]
  },
  {
   "cell_type": "code",
   "execution_count": 11,
   "metadata": {},
   "outputs": [],
   "source": [
    "def r_prime_init(N, method=\"dirichlet\", **kwargs):\n",
    "    if method == \"kmeans\":\n",
    "        K = kwargs[\"K\"]\n",
    "        random_state= kwargs[\"random_state\"]\n",
    "        data = kwargs[\"data\"]\n",
    "        r_prime = 0.1 / (K - 1) * np.ones((N, K))\n",
    "        model = KMeans(K, random_state=525).fit(data)\n",
    "        label = model.predict(data)\n",
    "        for i, j in enumerate(label):\n",
    "            r_prime[i, j] = 0.9\n",
    "        pass\n",
    "    else:\n",
    "        alpha_0 = kwargs[\"alpha_0\"]\n",
    "        r_prime = np.random.dirichlet(alpha_0, N)\n",
    "    return r_prime"
   ]
  },
  {
   "cell_type": "code",
   "execution_count": 21,
   "metadata": {},
   "outputs": [],
   "source": [
    "from os import listdir\n",
    "from os.path import isfile, join\n",
    "img_folder = \"./outputs/figs/\"\n",
    "imgs = [f for f in listdir(img_folder) if isfile(join(img_folder, f))]"
   ]
  },
  {
   "cell_type": "code",
   "execution_count": 25,
   "metadata": {},
   "outputs": [
    {
     "data": {
      "text/plain": [
       "['iter_0.png',\n",
       " 'iter_10.png',\n",
       " 'iter_15.png',\n",
       " 'iter_20.png',\n",
       " 'iter_25.png',\n",
       " 'iter_30.png',\n",
       " 'iter_35.png',\n",
       " 'iter_40.png',\n",
       " 'iter_45.png',\n",
       " 'iter_5.png',\n",
       " 'iter_50.png',\n",
       " 'iter_55.png',\n",
       " 'iter_60.png',\n",
       " 'iter_65.png',\n",
       " 'iter_70.png',\n",
       " 'iter_75.png']"
      ]
     },
     "execution_count": 25,
     "metadata": {},
     "output_type": "execute_result"
    }
   ],
   "source": [
    "imgs.pop(0)\n",
    "imgs"
   ]
  },
  {
   "cell_type": "code",
   "execution_count": 28,
   "metadata": {},
   "outputs": [],
   "source": [
    "import imageio\n",
    "images = []\n",
    "for img in imgs:\n",
    "    images.append(imageio.imread(\"./outputs/figs/{}\".format(img)))\n",
    "kargs = { 'duration': 0.5}\n",
    "imageio.mimsave('test.gif', images, **kargs)"
   ]
  },
  {
   "cell_type": "code",
   "execution_count": null,
   "metadata": {},
   "outputs": [],
   "source": []
  }
 ],
 "metadata": {
  "kernelspec": {
   "display_name": "Python 3",
   "language": "python",
   "name": "python3"
  },
  "language_info": {
   "codemirror_mode": {
    "name": "ipython",
    "version": 3
   },
   "file_extension": ".py",
   "mimetype": "text/x-python",
   "name": "python",
   "nbconvert_exporter": "python",
   "pygments_lexer": "ipython3",
   "version": "3.6.3"
  }
 },
 "nbformat": 4,
 "nbformat_minor": 2
}
